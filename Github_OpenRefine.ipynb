{
 "metadata": {
  "name": "",
  "signature": "sha256:d3da93abd486a1db3f8b1034ea63e21c1fdaa90e505da1204d36072141889195"
 },
 "nbformat": 3,
 "nbformat_minor": 0,
 "worksheets": [
  {
   "cells": [
    {
     "cell_type": "markdown",
     "metadata": {},
     "source": [
      "#How to add a repo to github?\n",
      "\n",
      "**git add \"document.ipynb\"**\n",
      "**git commit -m \"Here is a message\"**\n",
      "**git push**\n",
      "\n",
      "**git push -u origin master** *only the first time but -u saves it*"
     ]
    },
    {
     "cell_type": "code",
     "collapsed": false,
     "input": [
      "companies = [ { 'company': 'ExxonMobil', 'fine': 4500, 'date': '2011-01-02' },\n",
      "{ 'company':'BP', 'fine': 320, 'date': '2012-02-12' },\n",
      "{ 'company': 'ExxonMobil', 'fine': 7200, 'date': '2012-04-09' },\n",
      "{ 'company': 'Chevron', 'fine': 80000, 'date': '2011-01-02' } ]\n"
     ],
     "language": "python",
     "metadata": {},
     "outputs": [],
     "prompt_number": 2
    },
    {
     "cell_type": "code",
     "collapsed": false,
     "input": [
      "company_names = [comp['company'] for comp in companies]\n",
      "company_names.count(\"Chevron\")\n"
     ],
     "language": "python",
     "metadata": {},
     "outputs": [
      {
       "metadata": {},
       "output_type": "pyout",
       "prompt_number": 3,
       "text": [
        "1"
       ]
      }
     ],
     "prompt_number": 3
    },
    {
     "cell_type": "markdown",
     "metadata": {},
     "source": [
      "**another way with classes** See Python for Data Analysis Ch02"
     ]
    },
    {
     "cell_type": "code",
     "collapsed": false,
     "input": [],
     "language": "python",
     "metadata": {},
     "outputs": [],
     "prompt_number": 4
    },
    {
     "cell_type": "code",
     "collapsed": false,
     "input": [],
     "language": "python",
     "metadata": {},
     "outputs": []
    }
   ],
   "metadata": {}
  }
 ]
}