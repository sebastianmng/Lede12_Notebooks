{
 "metadata": {
  "name": "",
  "signature": "sha256:3f2e8e5f92e66ee5c250a95bfe761c6f5c951c790840716558fa6366418cb312"
 },
 "nbformat": 3,
 "nbformat_minor": 0,
 "worksheets": [
  {
   "cells": [
    {
     "cell_type": "markdown",
     "metadata": {},
     "source": [
      "#Do Now, Class 6\n",
      "Monday, June 15, 2015\n",
      "**Reviewing** dictionaries, lists, CSVs"
     ]
    },
    {
     "cell_type": "markdown",
     "metadata": {},
     "source": [
      "CSV stantds for comma separated values"
     ]
    },
    {
     "cell_type": "markdown",
     "metadata": {},
     "source": [
      "**code in markdown mode** just by indenting text\n",
      "    for x in y:\n",
      "        pass"
     ]
    },
    {
     "cell_type": "code",
     "collapsed": false,
     "input": [
      "company = { 'address': '34 45th St', 'name': 'Company LLC', 'owner': 'Jessica Goodman' }\n",
      "\n",
      "for key in company.keys():\n",
      "\tprint key, company[key]"
     ],
     "language": "python",
     "metadata": {},
     "outputs": [
      {
       "output_type": "stream",
       "stream": "stdout",
       "text": [
        "owner Jessica Goodman\n",
        "name Company LLC\n",
        "address 34 45th St\n"
       ]
      }
     ],
     "prompt_number": 1
    },
    {
     "cell_type": "markdown",
     "metadata": {},
     "source": [
      "3) Write a list comprehension to get the name of each of these companies.\n"
     ]
    },
    {
     "cell_type": "code",
     "collapsed": false,
     "input": [
      "companies = [ { 'name': 'Rogers Moving', 'address': '44 34nd St' }, { 'name': 'Box Supplies Inc', 'address': '45 34th Ave' }, { 'name': 'n/a', 'address': 'unknown'} ] \n",
      "\n",
      "lsst  = [x['name'] for x in companies]\n",
      "print lsst"
     ],
     "language": "python",
     "metadata": {},
     "outputs": [
      {
       "output_type": "stream",
       "stream": "stdout",
       "text": [
        "['Rogers Moving', 'Box Supplies Inc', 'n/a']\n"
       ]
      }
     ],
     "prompt_number": 4
    },
    {
     "cell_type": "markdown",
     "metadata": {},
     "source": [
      "4) Given the variables rating and target, print \"Failed\" if we didn't meet the target, \n",
      "\"Success\" if we met or exceeded the target, and \"Excellent work\" if we did more than double the target. \n",
      "If the target is zero, though, also print \"Easy\"."
     ]
    },
    {
     "cell_type": "markdown",
     "metadata": {},
     "source": [
      "if rating < target:\n",
      "    print 'Failed'\n",
      "elif rating > 2 * target:\n",
      "    print \"Excellent Work\"\n",
      "else:\n",
      "    print \"Success\""
     ]
    },
    {
     "cell_type": "markdown",
     "metadata": {},
     "source": [
      "5a) Given the following, write code to calculate how many murders we have in total.\n",
      "#Always use .keys to iterate through dict not to forget that is is a dict"
     ]
    },
    {
     "cell_type": "code",
     "collapsed": false,
     "input": [
      "murders = { 'Albany': 23, 'Kings County': 10, 'Rochester': 7, 'Yonkers': 9 }"
     ],
     "language": "python",
     "metadata": {},
     "outputs": [],
     "prompt_number": 6
    },
    {
     "cell_type": "code",
     "collapsed": false,
     "input": [
      "sum(murders.values())"
     ],
     "language": "python",
     "metadata": {},
     "outputs": [
      {
       "metadata": {},
       "output_type": "pyout",
       "prompt_number": 11,
       "text": [
        "49"
       ]
      }
     ],
     "prompt_number": 11
    },
    {
     "cell_type": "code",
     "collapsed": false,
     "input": [
      "sorted(murders.keys())"
     ],
     "language": "python",
     "metadata": {},
     "outputs": [
      {
       "metadata": {},
       "output_type": "pyout",
       "prompt_number": 12,
       "text": [
        "['Albany', 'Kings County', 'Rochester', 'Yonkers']"
       ]
      }
     ],
     "prompt_number": 12
    },
    {
     "cell_type": "code",
     "collapsed": false,
     "input": [],
     "language": "python",
     "metadata": {},
     "outputs": []
    }
   ],
   "metadata": {}
  }
 ]
}